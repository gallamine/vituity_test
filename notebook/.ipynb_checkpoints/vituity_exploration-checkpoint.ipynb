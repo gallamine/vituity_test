{
 "cells": [
  {
   "cell_type": "code",
   "execution_count": 45,
   "metadata": {},
   "outputs": [],
   "source": [
    "import matplotlib.pyplot as plt\n",
    "import sklearn\n",
    "import pandas as pd\n",
    "import seaborn as sns\n",
    "%matplotlib inline"
   ]
  },
  {
   "cell_type": "code",
   "execution_count": 33,
   "metadata": {},
   "outputs": [],
   "source": [
    "pd.set_option('display.max_columns', None)"
   ]
  },
  {
   "cell_type": "code",
   "execution_count": 11,
   "metadata": {},
   "outputs": [],
   "source": [
    "col_desc = pd.read_csv(\"../data/column_desc.tsv\", delimiter=\"\\t\")"
   ]
  },
  {
   "cell_type": "code",
   "execution_count": 12,
   "metadata": {},
   "outputs": [
    {
     "data": {
      "text/html": [
       "<div>\n",
       "<style scoped>\n",
       "    .dataframe tbody tr th:only-of-type {\n",
       "        vertical-align: middle;\n",
       "    }\n",
       "\n",
       "    .dataframe tbody tr th {\n",
       "        vertical-align: top;\n",
       "    }\n",
       "\n",
       "    .dataframe thead th {\n",
       "        text-align: right;\n",
       "    }\n",
       "</style>\n",
       "<table border=\"1\" class=\"dataframe\">\n",
       "  <thead>\n",
       "    <tr style=\"text-align: right;\">\n",
       "      <th></th>\n",
       "      <th>name</th>\n",
       "      <th>desc</th>\n",
       "    </tr>\n",
       "  </thead>\n",
       "  <tbody>\n",
       "    <tr>\n",
       "      <th>0</th>\n",
       "      <td>PatientIdentifier</td>\n",
       "      <td>unique patient id</td>\n",
       "    </tr>\n",
       "    <tr>\n",
       "      <th>1</th>\n",
       "      <td>bhr</td>\n",
       "      <td>basal heart rate</td>\n",
       "    </tr>\n",
       "    <tr>\n",
       "      <th>2</th>\n",
       "      <td>basebp</td>\n",
       "      <td>basal blood pressure</td>\n",
       "    </tr>\n",
       "    <tr>\n",
       "      <th>3</th>\n",
       "      <td>basedp</td>\n",
       "      <td>basal double product (= bhr x basebp)</td>\n",
       "    </tr>\n",
       "    <tr>\n",
       "      <th>4</th>\n",
       "      <td>pkhr</td>\n",
       "      <td>peak heart rate</td>\n",
       "    </tr>\n",
       "    <tr>\n",
       "      <th>5</th>\n",
       "      <td>sbp</td>\n",
       "      <td>systolic blood pressure</td>\n",
       "    </tr>\n",
       "    <tr>\n",
       "      <th>6</th>\n",
       "      <td>dp</td>\n",
       "      <td>double product (= pkhr x sbp)</td>\n",
       "    </tr>\n",
       "    <tr>\n",
       "      <th>7</th>\n",
       "      <td>maxhr</td>\n",
       "      <td>maximum heart rate</td>\n",
       "    </tr>\n",
       "    <tr>\n",
       "      <th>8</th>\n",
       "      <td>pctMphr</td>\n",
       "      <td>% of maximum predicted heart rate achieved</td>\n",
       "    </tr>\n",
       "    <tr>\n",
       "      <th>9</th>\n",
       "      <td>mbp</td>\n",
       "      <td>maximum blood pressure</td>\n",
       "    </tr>\n",
       "    <tr>\n",
       "      <th>10</th>\n",
       "      <td>age</td>\n",
       "      <td>age</td>\n",
       "    </tr>\n",
       "    <tr>\n",
       "      <th>11</th>\n",
       "      <td>gender</td>\n",
       "      <td>gender</td>\n",
       "    </tr>\n",
       "    <tr>\n",
       "      <th>12</th>\n",
       "      <td>ecg</td>\n",
       "      <td>echocardiogram was positive</td>\n",
       "    </tr>\n",
       "    <tr>\n",
       "      <th>13</th>\n",
       "      <td>baseef</td>\n",
       "      <td>baseline cardiac ejection fraction (a measure ...</td>\n",
       "    </tr>\n",
       "    <tr>\n",
       "      <th>14</th>\n",
       "      <td>chestpain</td>\n",
       "      <td>experienced chest pain</td>\n",
       "    </tr>\n",
       "    <tr>\n",
       "      <th>15</th>\n",
       "      <td>restwma</td>\n",
       "      <td>cardiologist sees wall motion anomoly on echoc...</td>\n",
       "    </tr>\n",
       "    <tr>\n",
       "      <th>16</th>\n",
       "      <td>posse</td>\n",
       "      <td>stress echocardiogram was positive</td>\n",
       "    </tr>\n",
       "    <tr>\n",
       "      <th>17</th>\n",
       "      <td>hxofht</td>\n",
       "      <td>patient history of hypertension</td>\n",
       "    </tr>\n",
       "    <tr>\n",
       "      <th>18</th>\n",
       "      <td>hxofdm</td>\n",
       "      <td>patient history of diabetes</td>\n",
       "    </tr>\n",
       "    <tr>\n",
       "      <th>19</th>\n",
       "      <td>hxofcig</td>\n",
       "      <td>patient history of smoking</td>\n",
       "    </tr>\n",
       "    <tr>\n",
       "      <th>20</th>\n",
       "      <td>hxofmi</td>\n",
       "      <td>patient history of heart attack</td>\n",
       "    </tr>\n",
       "    <tr>\n",
       "      <th>21</th>\n",
       "      <td>hxofptca</td>\n",
       "      <td>patient history of angioplasty</td>\n",
       "    </tr>\n",
       "    <tr>\n",
       "      <th>22</th>\n",
       "      <td>hxofcabg</td>\n",
       "      <td>patient history of bypass surgery</td>\n",
       "    </tr>\n",
       "    <tr>\n",
       "      <th>23</th>\n",
       "      <td>any.event</td>\n",
       "      <td>Outcome variable</td>\n",
       "    </tr>\n",
       "    <tr>\n",
       "      <th>24</th>\n",
       "      <td>death</td>\n",
       "      <td>patient dies after Encounter</td>\n",
       "    </tr>\n",
       "    <tr>\n",
       "      <th>25</th>\n",
       "      <td>newmi</td>\n",
       "      <td>new myocardial infarction or heart attack</td>\n",
       "    </tr>\n",
       "    <tr>\n",
       "      <th>26</th>\n",
       "      <td>newptca</td>\n",
       "      <td>recent angioplasty</td>\n",
       "    </tr>\n",
       "    <tr>\n",
       "      <th>27</th>\n",
       "      <td>newcabg</td>\n",
       "      <td>recent bypass surgery</td>\n",
       "    </tr>\n",
       "  </tbody>\n",
       "</table>\n",
       "</div>"
      ],
      "text/plain": [
       "                  name                                               desc\n",
       "0   PatientIdentifier                                   unique patient id\n",
       "1                  bhr                                   basal heart rate\n",
       "2               basebp                               basal blood pressure\n",
       "3               basedp              basal double product (= bhr x basebp)\n",
       "4                 pkhr                                    peak heart rate\n",
       "5                  sbp                            systolic blood pressure\n",
       "6                   dp                      double product (= pkhr x sbp)\n",
       "7                maxhr                                 maximum heart rate\n",
       "8            pctMphr           % of maximum predicted heart rate achieved\n",
       "9                  mbp                             maximum blood pressure\n",
       "10                 age                                                age\n",
       "11              gender                                             gender\n",
       "12                 ecg                        echocardiogram was positive\n",
       "13              baseef  baseline cardiac ejection fraction (a measure ...\n",
       "14           chestpain                             experienced chest pain\n",
       "15             restwma  cardiologist sees wall motion anomoly on echoc...\n",
       "16               posse                stress echocardiogram was positive \n",
       "17              hxofht                   patient history of hypertension \n",
       "18              hxofdm                       patient history of diabetes \n",
       "19             hxofcig                        patient history of smoking \n",
       "20              hxofmi                   patient history of heart attack \n",
       "21            hxofptca                    patient history of angioplasty \n",
       "22            hxofcabg                 patient history of bypass surgery \n",
       "23           any.event                                   Outcome variable\n",
       "24               death                      patient dies after Encounter \n",
       "25               newmi         new myocardial infarction or heart attack \n",
       "26             newptca                                recent angioplasty \n",
       "27             newcabg                              recent bypass surgery"
      ]
     },
     "execution_count": 12,
     "metadata": {},
     "output_type": "execute_result"
    }
   ],
   "source": [
    "col_desc"
   ]
  },
  {
   "cell_type": "code",
   "execution_count": 2,
   "metadata": {},
   "outputs": [],
   "source": [
    "d = pd.read_csv(\"../data/data.csv\")"
   ]
  },
  {
   "cell_type": "code",
   "execution_count": 110,
   "metadata": {},
   "outputs": [],
   "source": [
    "d.index = d['PatientIdentifier']"
   ]
  },
  {
   "cell_type": "code",
   "execution_count": 114,
   "metadata": {},
   "outputs": [],
   "source": [
    "d = d.drop(columns=['PatientIdentifier'])"
   ]
  },
  {
   "cell_type": "code",
   "execution_count": 115,
   "metadata": {},
   "outputs": [
    {
     "data": {
      "text/html": [
       "<div>\n",
       "<style scoped>\n",
       "    .dataframe tbody tr th:only-of-type {\n",
       "        vertical-align: middle;\n",
       "    }\n",
       "\n",
       "    .dataframe tbody tr th {\n",
       "        vertical-align: top;\n",
       "    }\n",
       "\n",
       "    .dataframe thead th {\n",
       "        text-align: right;\n",
       "    }\n",
       "</style>\n",
       "<table border=\"1\" class=\"dataframe\">\n",
       "  <thead>\n",
       "    <tr style=\"text-align: right;\">\n",
       "      <th></th>\n",
       "      <th>bhr</th>\n",
       "      <th>basebp</th>\n",
       "      <th>basedp</th>\n",
       "      <th>pkhr</th>\n",
       "      <th>sbp</th>\n",
       "      <th>dp</th>\n",
       "      <th>maxhr</th>\n",
       "      <th>pctMphr</th>\n",
       "      <th>mbp</th>\n",
       "      <th>dpmaxdo</th>\n",
       "      <th>dobdose</th>\n",
       "      <th>age</th>\n",
       "      <th>baseEF</th>\n",
       "      <th>chestpain</th>\n",
       "      <th>restwma</th>\n",
       "      <th>posSE</th>\n",
       "      <th>newMI</th>\n",
       "      <th>newPTCA</th>\n",
       "      <th>newCABG</th>\n",
       "      <th>death</th>\n",
       "      <th>hxofHT</th>\n",
       "      <th>hxofDM</th>\n",
       "      <th>hxofMI</th>\n",
       "      <th>hxofPTCA</th>\n",
       "      <th>hxofCABG</th>\n",
       "      <th>any.event</th>\n",
       "    </tr>\n",
       "  </thead>\n",
       "  <tbody>\n",
       "    <tr>\n",
       "      <th>count</th>\n",
       "      <td>556.000000</td>\n",
       "      <td>556.000000</td>\n",
       "      <td>543.000000</td>\n",
       "      <td>555.000000</td>\n",
       "      <td>540.000000</td>\n",
       "      <td>540.000000</td>\n",
       "      <td>545.000000</td>\n",
       "      <td>534.000000</td>\n",
       "      <td>541.000000</td>\n",
       "      <td>552.000000</td>\n",
       "      <td>548.000000</td>\n",
       "      <td>539.000000</td>\n",
       "      <td>540.000000</td>\n",
       "      <td>548.000000</td>\n",
       "      <td>549.000000</td>\n",
       "      <td>539.000000</td>\n",
       "      <td>558.000000</td>\n",
       "      <td>558.000000</td>\n",
       "      <td>558.000000</td>\n",
       "      <td>540.000000</td>\n",
       "      <td>541.000000</td>\n",
       "      <td>556.000000</td>\n",
       "      <td>552.000000</td>\n",
       "      <td>539.000000</td>\n",
       "      <td>553.000000</td>\n",
       "      <td>550.000000</td>\n",
       "    </tr>\n",
       "    <tr>\n",
       "      <th>mean</th>\n",
       "      <td>74.519784</td>\n",
       "      <td>135.293165</td>\n",
       "      <td>10223.066298</td>\n",
       "      <td>120.643243</td>\n",
       "      <td>147.035185</td>\n",
       "      <td>17653.733333</td>\n",
       "      <td>119.306422</td>\n",
       "      <td>78.561798</td>\n",
       "      <td>155.615527</td>\n",
       "      <td>18547.702899</td>\n",
       "      <td>30.237226</td>\n",
       "      <td>68.834879</td>\n",
       "      <td>55.511111</td>\n",
       "      <td>0.304745</td>\n",
       "      <td>0.460838</td>\n",
       "      <td>0.244898</td>\n",
       "      <td>0.050179</td>\n",
       "      <td>0.048387</td>\n",
       "      <td>0.059140</td>\n",
       "      <td>0.040741</td>\n",
       "      <td>0.706100</td>\n",
       "      <td>0.370504</td>\n",
       "      <td>0.277174</td>\n",
       "      <td>0.076067</td>\n",
       "      <td>0.159132</td>\n",
       "      <td>0.161818</td>\n",
       "    </tr>\n",
       "    <tr>\n",
       "      <th>std</th>\n",
       "      <td>17.622200</td>\n",
       "      <td>20.799567</td>\n",
       "      <td>2588.827924</td>\n",
       "      <td>22.584033</td>\n",
       "      <td>36.682824</td>\n",
       "      <td>5242.508552</td>\n",
       "      <td>22.014694</td>\n",
       "      <td>15.227201</td>\n",
       "      <td>31.699341</td>\n",
       "      <td>4912.162667</td>\n",
       "      <td>9.543431</td>\n",
       "      <td>16.255986</td>\n",
       "      <td>10.420913</td>\n",
       "      <td>0.460720</td>\n",
       "      <td>0.498919</td>\n",
       "      <td>0.430426</td>\n",
       "      <td>0.218510</td>\n",
       "      <td>0.214775</td>\n",
       "      <td>0.236098</td>\n",
       "      <td>0.197872</td>\n",
       "      <td>0.455968</td>\n",
       "      <td>0.483375</td>\n",
       "      <td>0.448009</td>\n",
       "      <td>0.265351</td>\n",
       "      <td>0.366130</td>\n",
       "      <td>0.368619</td>\n",
       "    </tr>\n",
       "    <tr>\n",
       "      <th>min</th>\n",
       "      <td>-42.000000</td>\n",
       "      <td>85.000000</td>\n",
       "      <td>5000.000000</td>\n",
       "      <td>52.000000</td>\n",
       "      <td>40.000000</td>\n",
       "      <td>5100.000000</td>\n",
       "      <td>58.000000</td>\n",
       "      <td>38.000000</td>\n",
       "      <td>84.000000</td>\n",
       "      <td>7130.000000</td>\n",
       "      <td>5.000000</td>\n",
       "      <td>26.000000</td>\n",
       "      <td>20.000000</td>\n",
       "      <td>0.000000</td>\n",
       "      <td>0.000000</td>\n",
       "      <td>0.000000</td>\n",
       "      <td>0.000000</td>\n",
       "      <td>0.000000</td>\n",
       "      <td>0.000000</td>\n",
       "      <td>0.000000</td>\n",
       "      <td>0.000000</td>\n",
       "      <td>0.000000</td>\n",
       "      <td>0.000000</td>\n",
       "      <td>0.000000</td>\n",
       "      <td>0.000000</td>\n",
       "      <td>0.000000</td>\n",
       "    </tr>\n",
       "    <tr>\n",
       "      <th>25%</th>\n",
       "      <td>64.000000</td>\n",
       "      <td>120.000000</td>\n",
       "      <td>8426.000000</td>\n",
       "      <td>106.500000</td>\n",
       "      <td>120.000000</td>\n",
       "      <td>14039.000000</td>\n",
       "      <td>104.000000</td>\n",
       "      <td>69.000000</td>\n",
       "      <td>133.000000</td>\n",
       "      <td>15257.250000</td>\n",
       "      <td>20.000000</td>\n",
       "      <td>60.500000</td>\n",
       "      <td>52.000000</td>\n",
       "      <td>0.000000</td>\n",
       "      <td>0.000000</td>\n",
       "      <td>0.000000</td>\n",
       "      <td>0.000000</td>\n",
       "      <td>0.000000</td>\n",
       "      <td>0.000000</td>\n",
       "      <td>0.000000</td>\n",
       "      <td>0.000000</td>\n",
       "      <td>0.000000</td>\n",
       "      <td>0.000000</td>\n",
       "      <td>0.000000</td>\n",
       "      <td>0.000000</td>\n",
       "      <td>0.000000</td>\n",
       "    </tr>\n",
       "    <tr>\n",
       "      <th>50%</th>\n",
       "      <td>73.000000</td>\n",
       "      <td>133.000000</td>\n",
       "      <td>9860.000000</td>\n",
       "      <td>122.000000</td>\n",
       "      <td>142.000000</td>\n",
       "      <td>17090.000000</td>\n",
       "      <td>120.000000</td>\n",
       "      <td>78.000000</td>\n",
       "      <td>150.000000</td>\n",
       "      <td>18118.000000</td>\n",
       "      <td>30.000000</td>\n",
       "      <td>69.000000</td>\n",
       "      <td>57.000000</td>\n",
       "      <td>0.000000</td>\n",
       "      <td>0.000000</td>\n",
       "      <td>0.000000</td>\n",
       "      <td>0.000000</td>\n",
       "      <td>0.000000</td>\n",
       "      <td>0.000000</td>\n",
       "      <td>0.000000</td>\n",
       "      <td>1.000000</td>\n",
       "      <td>0.000000</td>\n",
       "      <td>0.000000</td>\n",
       "      <td>0.000000</td>\n",
       "      <td>0.000000</td>\n",
       "      <td>0.000000</td>\n",
       "    </tr>\n",
       "    <tr>\n",
       "      <th>75%</th>\n",
       "      <td>84.000000</td>\n",
       "      <td>150.000000</td>\n",
       "      <td>11698.000000</td>\n",
       "      <td>135.500000</td>\n",
       "      <td>170.000000</td>\n",
       "      <td>20648.250000</td>\n",
       "      <td>133.000000</td>\n",
       "      <td>89.000000</td>\n",
       "      <td>175.000000</td>\n",
       "      <td>21259.000000</td>\n",
       "      <td>40.000000</td>\n",
       "      <td>76.000000</td>\n",
       "      <td>62.000000</td>\n",
       "      <td>1.000000</td>\n",
       "      <td>1.000000</td>\n",
       "      <td>0.000000</td>\n",
       "      <td>0.000000</td>\n",
       "      <td>0.000000</td>\n",
       "      <td>0.000000</td>\n",
       "      <td>0.000000</td>\n",
       "      <td>1.000000</td>\n",
       "      <td>1.000000</td>\n",
       "      <td>1.000000</td>\n",
       "      <td>0.000000</td>\n",
       "      <td>0.000000</td>\n",
       "      <td>0.000000</td>\n",
       "    </tr>\n",
       "    <tr>\n",
       "      <th>max</th>\n",
       "      <td>210.000000</td>\n",
       "      <td>203.000000</td>\n",
       "      <td>27300.000000</td>\n",
       "      <td>210.000000</td>\n",
       "      <td>309.000000</td>\n",
       "      <td>45114.000000</td>\n",
       "      <td>200.000000</td>\n",
       "      <td>133.000000</td>\n",
       "      <td>309.000000</td>\n",
       "      <td>45114.000000</td>\n",
       "      <td>40.000000</td>\n",
       "      <td>167.000000</td>\n",
       "      <td>83.000000</td>\n",
       "      <td>1.000000</td>\n",
       "      <td>1.000000</td>\n",
       "      <td>1.000000</td>\n",
       "      <td>1.000000</td>\n",
       "      <td>1.000000</td>\n",
       "      <td>1.000000</td>\n",
       "      <td>1.000000</td>\n",
       "      <td>1.000000</td>\n",
       "      <td>1.000000</td>\n",
       "      <td>1.000000</td>\n",
       "      <td>1.000000</td>\n",
       "      <td>1.000000</td>\n",
       "      <td>1.000000</td>\n",
       "    </tr>\n",
       "  </tbody>\n",
       "</table>\n",
       "</div>"
      ],
      "text/plain": [
       "              bhr      basebp        basedp        pkhr         sbp  \\\n",
       "count  556.000000  556.000000    543.000000  555.000000  540.000000   \n",
       "mean    74.519784  135.293165  10223.066298  120.643243  147.035185   \n",
       "std     17.622200   20.799567   2588.827924   22.584033   36.682824   \n",
       "min    -42.000000   85.000000   5000.000000   52.000000   40.000000   \n",
       "25%     64.000000  120.000000   8426.000000  106.500000  120.000000   \n",
       "50%     73.000000  133.000000   9860.000000  122.000000  142.000000   \n",
       "75%     84.000000  150.000000  11698.000000  135.500000  170.000000   \n",
       "max    210.000000  203.000000  27300.000000  210.000000  309.000000   \n",
       "\n",
       "                 dp       maxhr     pctMphr         mbp       dpmaxdo  \\\n",
       "count    540.000000  545.000000  534.000000  541.000000    552.000000   \n",
       "mean   17653.733333  119.306422   78.561798  155.615527  18547.702899   \n",
       "std     5242.508552   22.014694   15.227201   31.699341   4912.162667   \n",
       "min     5100.000000   58.000000   38.000000   84.000000   7130.000000   \n",
       "25%    14039.000000  104.000000   69.000000  133.000000  15257.250000   \n",
       "50%    17090.000000  120.000000   78.000000  150.000000  18118.000000   \n",
       "75%    20648.250000  133.000000   89.000000  175.000000  21259.000000   \n",
       "max    45114.000000  200.000000  133.000000  309.000000  45114.000000   \n",
       "\n",
       "          dobdose         age      baseEF   chestpain     restwma       posSE  \\\n",
       "count  548.000000  539.000000  540.000000  548.000000  549.000000  539.000000   \n",
       "mean    30.237226   68.834879   55.511111    0.304745    0.460838    0.244898   \n",
       "std      9.543431   16.255986   10.420913    0.460720    0.498919    0.430426   \n",
       "min      5.000000   26.000000   20.000000    0.000000    0.000000    0.000000   \n",
       "25%     20.000000   60.500000   52.000000    0.000000    0.000000    0.000000   \n",
       "50%     30.000000   69.000000   57.000000    0.000000    0.000000    0.000000   \n",
       "75%     40.000000   76.000000   62.000000    1.000000    1.000000    0.000000   \n",
       "max     40.000000  167.000000   83.000000    1.000000    1.000000    1.000000   \n",
       "\n",
       "            newMI     newPTCA     newCABG       death      hxofHT      hxofDM  \\\n",
       "count  558.000000  558.000000  558.000000  540.000000  541.000000  556.000000   \n",
       "mean     0.050179    0.048387    0.059140    0.040741    0.706100    0.370504   \n",
       "std      0.218510    0.214775    0.236098    0.197872    0.455968    0.483375   \n",
       "min      0.000000    0.000000    0.000000    0.000000    0.000000    0.000000   \n",
       "25%      0.000000    0.000000    0.000000    0.000000    0.000000    0.000000   \n",
       "50%      0.000000    0.000000    0.000000    0.000000    1.000000    0.000000   \n",
       "75%      0.000000    0.000000    0.000000    0.000000    1.000000    1.000000   \n",
       "max      1.000000    1.000000    1.000000    1.000000    1.000000    1.000000   \n",
       "\n",
       "           hxofMI    hxofPTCA    hxofCABG   any.event  \n",
       "count  552.000000  539.000000  553.000000  550.000000  \n",
       "mean     0.277174    0.076067    0.159132    0.161818  \n",
       "std      0.448009    0.265351    0.366130    0.368619  \n",
       "min      0.000000    0.000000    0.000000    0.000000  \n",
       "25%      0.000000    0.000000    0.000000    0.000000  \n",
       "50%      0.000000    0.000000    0.000000    0.000000  \n",
       "75%      1.000000    0.000000    0.000000    0.000000  \n",
       "max      1.000000    1.000000    1.000000    1.000000  "
      ]
     },
     "execution_count": 115,
     "metadata": {},
     "output_type": "execute_result"
    }
   ],
   "source": [
    "d.describe()"
   ]
  },
  {
   "cell_type": "code",
   "execution_count": 116,
   "metadata": {},
   "outputs": [
    {
     "data": {
      "text/html": [
       "<div>\n",
       "<style scoped>\n",
       "    .dataframe tbody tr th:only-of-type {\n",
       "        vertical-align: middle;\n",
       "    }\n",
       "\n",
       "    .dataframe tbody tr th {\n",
       "        vertical-align: top;\n",
       "    }\n",
       "\n",
       "    .dataframe thead th {\n",
       "        text-align: right;\n",
       "    }\n",
       "</style>\n",
       "<table border=\"1\" class=\"dataframe\">\n",
       "  <thead>\n",
       "    <tr style=\"text-align: right;\">\n",
       "      <th></th>\n",
       "      <th>bhr</th>\n",
       "      <th>basebp</th>\n",
       "      <th>basedp</th>\n",
       "      <th>pkhr</th>\n",
       "      <th>sbp</th>\n",
       "      <th>dp</th>\n",
       "      <th>maxhr</th>\n",
       "      <th>pctMphr</th>\n",
       "      <th>mbp</th>\n",
       "      <th>dpmaxdo</th>\n",
       "      <th>dobdose</th>\n",
       "      <th>age</th>\n",
       "      <th>gender</th>\n",
       "      <th>baseEF</th>\n",
       "      <th>chestpain</th>\n",
       "      <th>restwma</th>\n",
       "      <th>posSE</th>\n",
       "      <th>newMI</th>\n",
       "      <th>newPTCA</th>\n",
       "      <th>newCABG</th>\n",
       "      <th>death</th>\n",
       "      <th>hxofHT</th>\n",
       "      <th>hxofDM</th>\n",
       "      <th>hxofCig</th>\n",
       "      <th>hxofMI</th>\n",
       "      <th>hxofPTCA</th>\n",
       "      <th>hxofCABG</th>\n",
       "      <th>any.event</th>\n",
       "      <th>ecg</th>\n",
       "    </tr>\n",
       "    <tr>\n",
       "      <th>PatientIdentifier</th>\n",
       "      <th></th>\n",
       "      <th></th>\n",
       "      <th></th>\n",
       "      <th></th>\n",
       "      <th></th>\n",
       "      <th></th>\n",
       "      <th></th>\n",
       "      <th></th>\n",
       "      <th></th>\n",
       "      <th></th>\n",
       "      <th></th>\n",
       "      <th></th>\n",
       "      <th></th>\n",
       "      <th></th>\n",
       "      <th></th>\n",
       "      <th></th>\n",
       "      <th></th>\n",
       "      <th></th>\n",
       "      <th></th>\n",
       "      <th></th>\n",
       "      <th></th>\n",
       "      <th></th>\n",
       "      <th></th>\n",
       "      <th></th>\n",
       "      <th></th>\n",
       "      <th></th>\n",
       "      <th></th>\n",
       "      <th></th>\n",
       "      <th></th>\n",
       "    </tr>\n",
       "  </thead>\n",
       "  <tbody>\n",
       "    <tr>\n",
       "      <th>5b58e040ee35f3bcc6023fb7836c842e</th>\n",
       "      <td>92.0</td>\n",
       "      <td>103.0</td>\n",
       "      <td>9476.0</td>\n",
       "      <td>114.0</td>\n",
       "      <td>86.0</td>\n",
       "      <td>9804.0</td>\n",
       "      <td>100.0</td>\n",
       "      <td>NaN</td>\n",
       "      <td>121.0</td>\n",
       "      <td>12100.0</td>\n",
       "      <td>40.0</td>\n",
       "      <td>85.0</td>\n",
       "      <td>male</td>\n",
       "      <td>27.0</td>\n",
       "      <td>0.0</td>\n",
       "      <td>0.0</td>\n",
       "      <td>0.0</td>\n",
       "      <td>0</td>\n",
       "      <td>0</td>\n",
       "      <td>0</td>\n",
       "      <td>0.0</td>\n",
       "      <td>NaN</td>\n",
       "      <td>0.0</td>\n",
       "      <td>non-smoker</td>\n",
       "      <td>1.0</td>\n",
       "      <td>1.0</td>\n",
       "      <td>0.0</td>\n",
       "      <td>0.0</td>\n",
       "      <td>normal</td>\n",
       "    </tr>\n",
       "    <tr>\n",
       "      <th>0e4033b8c0b56afbea35dc749ced4e1d</th>\n",
       "      <td>62.0</td>\n",
       "      <td>139.0</td>\n",
       "      <td>8618.0</td>\n",
       "      <td>120.0</td>\n",
       "      <td>158.0</td>\n",
       "      <td>18960.0</td>\n",
       "      <td>120.0</td>\n",
       "      <td>82.0</td>\n",
       "      <td>158.0</td>\n",
       "      <td>18960.0</td>\n",
       "      <td>40.0</td>\n",
       "      <td>73.0</td>\n",
       "      <td>male</td>\n",
       "      <td>39.0</td>\n",
       "      <td>0.0</td>\n",
       "      <td>0.0</td>\n",
       "      <td>0.0</td>\n",
       "      <td>1</td>\n",
       "      <td>0</td>\n",
       "      <td>0</td>\n",
       "      <td>0.0</td>\n",
       "      <td>NaN</td>\n",
       "      <td>1.0</td>\n",
       "      <td>non-smoker</td>\n",
       "      <td>1.0</td>\n",
       "      <td>0.0</td>\n",
       "      <td>0.0</td>\n",
       "      <td>1.0</td>\n",
       "      <td>equivocal</td>\n",
       "    </tr>\n",
       "    <tr>\n",
       "      <th>d19d62a873f08af0488f0df720cfd293</th>\n",
       "      <td>62.0</td>\n",
       "      <td>139.0</td>\n",
       "      <td>8618.0</td>\n",
       "      <td>120.0</td>\n",
       "      <td>157.0</td>\n",
       "      <td>18840.0</td>\n",
       "      <td>120.0</td>\n",
       "      <td>82.0</td>\n",
       "      <td>157.0</td>\n",
       "      <td>18840.0</td>\n",
       "      <td>40.0</td>\n",
       "      <td>73.0</td>\n",
       "      <td>male</td>\n",
       "      <td>39.0</td>\n",
       "      <td>0.0</td>\n",
       "      <td>0.0</td>\n",
       "      <td>NaN</td>\n",
       "      <td>1</td>\n",
       "      <td>0</td>\n",
       "      <td>0</td>\n",
       "      <td>NaN</td>\n",
       "      <td>0.0</td>\n",
       "      <td>1.0</td>\n",
       "      <td>non-smoker</td>\n",
       "      <td>1.0</td>\n",
       "      <td>0.0</td>\n",
       "      <td>0.0</td>\n",
       "      <td>1.0</td>\n",
       "      <td>equivocal</td>\n",
       "    </tr>\n",
       "    <tr>\n",
       "      <th>00713fac580bcb0691658403f8e6f4e3</th>\n",
       "      <td>93.0</td>\n",
       "      <td>118.0</td>\n",
       "      <td>10974.0</td>\n",
       "      <td>118.0</td>\n",
       "      <td>105.0</td>\n",
       "      <td>12390.0</td>\n",
       "      <td>118.0</td>\n",
       "      <td>72.0</td>\n",
       "      <td>105.0</td>\n",
       "      <td>12390.0</td>\n",
       "      <td>30.0</td>\n",
       "      <td>57.0</td>\n",
       "      <td>female</td>\n",
       "      <td>42.0</td>\n",
       "      <td>0.0</td>\n",
       "      <td>0.0</td>\n",
       "      <td>0.0</td>\n",
       "      <td>0</td>\n",
       "      <td>0</td>\n",
       "      <td>0</td>\n",
       "      <td>0.0</td>\n",
       "      <td>0.0</td>\n",
       "      <td>0.0</td>\n",
       "      <td>non-smoker</td>\n",
       "      <td>0.0</td>\n",
       "      <td>0.0</td>\n",
       "      <td>0.0</td>\n",
       "      <td>0.0</td>\n",
       "      <td>normal</td>\n",
       "    </tr>\n",
       "    <tr>\n",
       "      <th>ee340e888492be0703f2bcc9abfb390c</th>\n",
       "      <td>89.0</td>\n",
       "      <td>103.0</td>\n",
       "      <td>9167.0</td>\n",
       "      <td>129.0</td>\n",
       "      <td>173.0</td>\n",
       "      <td>22317.0</td>\n",
       "      <td>129.0</td>\n",
       "      <td>69.0</td>\n",
       "      <td>176.0</td>\n",
       "      <td>22704.0</td>\n",
       "      <td>40.0</td>\n",
       "      <td>34.0</td>\n",
       "      <td>male</td>\n",
       "      <td>45.0</td>\n",
       "      <td>1.0</td>\n",
       "      <td>1.0</td>\n",
       "      <td>0.0</td>\n",
       "      <td>0</td>\n",
       "      <td>0</td>\n",
       "      <td>0</td>\n",
       "      <td>0.0</td>\n",
       "      <td>0.0</td>\n",
       "      <td>0.0</td>\n",
       "      <td>non-smoker</td>\n",
       "      <td>0.0</td>\n",
       "      <td>0.0</td>\n",
       "      <td>NaN</td>\n",
       "      <td>0.0</td>\n",
       "      <td>equivocal</td>\n",
       "    </tr>\n",
       "  </tbody>\n",
       "</table>\n",
       "</div>"
      ],
      "text/plain": [
       "                                   bhr  basebp   basedp   pkhr    sbp  \\\n",
       "PatientIdentifier                                                       \n",
       "5b58e040ee35f3bcc6023fb7836c842e  92.0   103.0   9476.0  114.0   86.0   \n",
       "0e4033b8c0b56afbea35dc749ced4e1d  62.0   139.0   8618.0  120.0  158.0   \n",
       "d19d62a873f08af0488f0df720cfd293  62.0   139.0   8618.0  120.0  157.0   \n",
       "00713fac580bcb0691658403f8e6f4e3  93.0   118.0  10974.0  118.0  105.0   \n",
       "ee340e888492be0703f2bcc9abfb390c  89.0   103.0   9167.0  129.0  173.0   \n",
       "\n",
       "                                       dp  maxhr  pctMphr    mbp  dpmaxdo  \\\n",
       "PatientIdentifier                                                           \n",
       "5b58e040ee35f3bcc6023fb7836c842e   9804.0  100.0      NaN  121.0  12100.0   \n",
       "0e4033b8c0b56afbea35dc749ced4e1d  18960.0  120.0     82.0  158.0  18960.0   \n",
       "d19d62a873f08af0488f0df720cfd293  18840.0  120.0     82.0  157.0  18840.0   \n",
       "00713fac580bcb0691658403f8e6f4e3  12390.0  118.0     72.0  105.0  12390.0   \n",
       "ee340e888492be0703f2bcc9abfb390c  22317.0  129.0     69.0  176.0  22704.0   \n",
       "\n",
       "                                  dobdose   age  gender  baseEF  chestpain  \\\n",
       "PatientIdentifier                                                            \n",
       "5b58e040ee35f3bcc6023fb7836c842e     40.0  85.0    male    27.0        0.0   \n",
       "0e4033b8c0b56afbea35dc749ced4e1d     40.0  73.0    male    39.0        0.0   \n",
       "d19d62a873f08af0488f0df720cfd293     40.0  73.0    male    39.0        0.0   \n",
       "00713fac580bcb0691658403f8e6f4e3     30.0  57.0  female    42.0        0.0   \n",
       "ee340e888492be0703f2bcc9abfb390c     40.0  34.0    male    45.0        1.0   \n",
       "\n",
       "                                  restwma  posSE  newMI  newPTCA  newCABG  \\\n",
       "PatientIdentifier                                                           \n",
       "5b58e040ee35f3bcc6023fb7836c842e      0.0    0.0      0        0        0   \n",
       "0e4033b8c0b56afbea35dc749ced4e1d      0.0    0.0      1        0        0   \n",
       "d19d62a873f08af0488f0df720cfd293      0.0    NaN      1        0        0   \n",
       "00713fac580bcb0691658403f8e6f4e3      0.0    0.0      0        0        0   \n",
       "ee340e888492be0703f2bcc9abfb390c      1.0    0.0      0        0        0   \n",
       "\n",
       "                                  death  hxofHT  hxofDM     hxofCig  hxofMI  \\\n",
       "PatientIdentifier                                                             \n",
       "5b58e040ee35f3bcc6023fb7836c842e    0.0     NaN     0.0  non-smoker     1.0   \n",
       "0e4033b8c0b56afbea35dc749ced4e1d    0.0     NaN     1.0  non-smoker     1.0   \n",
       "d19d62a873f08af0488f0df720cfd293    NaN     0.0     1.0  non-smoker     1.0   \n",
       "00713fac580bcb0691658403f8e6f4e3    0.0     0.0     0.0  non-smoker     0.0   \n",
       "ee340e888492be0703f2bcc9abfb390c    0.0     0.0     0.0  non-smoker     0.0   \n",
       "\n",
       "                                  hxofPTCA  hxofCABG  any.event        ecg  \n",
       "PatientIdentifier                                                           \n",
       "5b58e040ee35f3bcc6023fb7836c842e       1.0       0.0        0.0     normal  \n",
       "0e4033b8c0b56afbea35dc749ced4e1d       0.0       0.0        1.0  equivocal  \n",
       "d19d62a873f08af0488f0df720cfd293       0.0       0.0        1.0  equivocal  \n",
       "00713fac580bcb0691658403f8e6f4e3       0.0       0.0        0.0     normal  \n",
       "ee340e888492be0703f2bcc9abfb390c       0.0       NaN        0.0  equivocal  "
      ]
     },
     "execution_count": 116,
     "metadata": {},
     "output_type": "execute_result"
    }
   ],
   "source": [
    "d.head()"
   ]
  },
  {
   "cell_type": "markdown",
   "metadata": {},
   "source": [
    "### Attribution plan:\n",
    "\n",
    "- bhr - mean\n",
    "- basebp - mean\n",
    "- basedp - bhr*basebp\n",
    "- pkhr\n",
    "- sbp\n",
    "- dp - pkhr * sbp\n",
    "- maxhr - mean\n",
    "\n",
    "- chestpain - mostpopular\n",
    "- restwma - mostpopular\n",
    "- "
   ]
  },
  {
   "cell_type": "code",
   "execution_count": 117,
   "metadata": {},
   "outputs": [
    {
     "data": {
      "text/plain": [
       "bhr          float64\n",
       "basebp       float64\n",
       "basedp       float64\n",
       "pkhr         float64\n",
       "sbp          float64\n",
       "dp           float64\n",
       "maxhr        float64\n",
       "pctMphr      float64\n",
       "mbp          float64\n",
       "dpmaxdo      float64\n",
       "dobdose      float64\n",
       "age          float64\n",
       "gender        object\n",
       "baseEF       float64\n",
       "chestpain    float64\n",
       "restwma      float64\n",
       "posSE        float64\n",
       "newMI          int64\n",
       "newPTCA        int64\n",
       "newCABG        int64\n",
       "death        float64\n",
       "hxofHT       float64\n",
       "hxofDM       float64\n",
       "hxofCig       object\n",
       "hxofMI       float64\n",
       "hxofPTCA     float64\n",
       "hxofCABG     float64\n",
       "any.event    float64\n",
       "ecg           object\n",
       "dtype: object"
      ]
     },
     "execution_count": 117,
     "metadata": {},
     "output_type": "execute_result"
    }
   ],
   "source": [
    "d.dtypes"
   ]
  },
  {
   "cell_type": "markdown",
   "metadata": {},
   "source": [
    "## Notes\n",
    "\n",
    "1. Check for missing values\n",
    "2. How to impute values?\n",
    "3. Which colums are categorical / numeric?\n"
   ]
  },
  {
   "cell_type": "code",
   "execution_count": 119,
   "metadata": {},
   "outputs": [
    {
     "data": {
      "text/plain": [
       "558"
      ]
     },
     "execution_count": 119,
     "metadata": {},
     "output_type": "execute_result"
    }
   ],
   "source": [
    "d.index.nunique()"
   ]
  },
  {
   "cell_type": "code",
   "execution_count": 120,
   "metadata": {},
   "outputs": [
    {
     "data": {
      "text/plain": [
       "bhr           True\n",
       "basebp        True\n",
       "basedp        True\n",
       "pkhr          True\n",
       "sbp           True\n",
       "dp            True\n",
       "maxhr         True\n",
       "pctMphr       True\n",
       "mbp           True\n",
       "dpmaxdo       True\n",
       "dobdose       True\n",
       "age           True\n",
       "gender       False\n",
       "baseEF        True\n",
       "chestpain     True\n",
       "restwma       True\n",
       "posSE         True\n",
       "newMI        False\n",
       "newPTCA      False\n",
       "newCABG      False\n",
       "death         True\n",
       "hxofHT        True\n",
       "hxofDM        True\n",
       "hxofCig      False\n",
       "hxofMI        True\n",
       "hxofPTCA      True\n",
       "hxofCABG      True\n",
       "any.event     True\n",
       "ecg          False\n",
       "dtype: bool"
      ]
     },
     "execution_count": 120,
     "metadata": {},
     "output_type": "execute_result"
    }
   ],
   "source": [
    "d.isna().any()"
   ]
  },
  {
   "cell_type": "code",
   "execution_count": 121,
   "metadata": {},
   "outputs": [
    {
     "data": {
      "text/plain": [
       "(558, 29)"
      ]
     },
     "execution_count": 121,
     "metadata": {},
     "output_type": "execute_result"
    }
   ],
   "source": [
    "d.shape"
   ]
  },
  {
   "cell_type": "code",
   "execution_count": 122,
   "metadata": {},
   "outputs": [
    {
     "data": {
      "text/plain": [
       "(346, 29)"
      ]
     },
     "execution_count": 122,
     "metadata": {},
     "output_type": "execute_result"
    }
   ],
   "source": [
    "d.dropna().shape"
   ]
  },
  {
   "cell_type": "code",
   "execution_count": 123,
   "metadata": {},
   "outputs": [
    {
     "name": "stdout",
     "output_type": "stream",
     "text": [
      "Histogram of float64 bhr\n",
      "Histogram of float64 basebp\n",
      "Histogram of float64 basedp\n",
      "Histogram of float64 pkhr\n",
      "Histogram of float64 sbp\n",
      "Histogram of float64 dp\n",
      "Histogram of float64 maxhr\n",
      "Histogram of float64 pctMphr\n",
      "Histogram of float64 mbp\n",
      "Histogram of float64 dpmaxdo\n",
      "Histogram of float64 dobdose\n",
      "Histogram of float64 age\n",
      "Col gender has 2 unique values.\n",
      "Histogram of float64 baseEF\n",
      "Histogram of float64 chestpain\n",
      "Histogram of float64 restwma\n",
      "Histogram of float64 posSE\n",
      "Histogram of int64 newMI\n",
      "Histogram of int64 newPTCA\n",
      "Histogram of int64 newCABG\n",
      "Histogram of float64 death\n",
      "Histogram of float64 hxofHT\n",
      "Histogram of float64 hxofDM\n"
     ]
    },
    {
     "name": "stderr",
     "output_type": "stream",
     "text": [
      "/Users/william/miniconda3/envs/vituity/lib/python3.6/site-packages/matplotlib/pyplot.py:522: RuntimeWarning: More than 20 figures have been opened. Figures created through the pyplot interface (`matplotlib.pyplot.figure`) are retained until explicitly closed and may consume too much memory. (To control this warning, see the rcParam `figure.max_open_warning`).\n",
      "  max_open_warning, RuntimeWarning)\n"
     ]
    },
    {
     "name": "stdout",
     "output_type": "stream",
     "text": [
      "Col hxofCig has 3 unique values.\n",
      "Histogram of float64 hxofMI\n",
      "Histogram of float64 hxofPTCA\n",
      "Histogram of float64 hxofCABG\n",
      "Histogram of float64 any.event\n",
      "Col ecg has 3 unique values.\n"
     ]
    },
    {
     "data": {
      "image/png": "[encoded data removed]",
      "text/plain": [
       "<Figure size 432x288 with 1 Axes>"
      ]
     },
     "metadata": {},
     "output_type": "display_data"
    },
    {
     "data": {
      "image/png": "[encoded data removed]",
      "text/plain": [
       "<Figure size 432x288 with 1 Axes>"
      ]
     },
     "metadata": {},
     "output_type": "display_data"
    },
    {
     "data": {
      "image/png": "[encoded data removed]",
      "text/plain": [
       "<Figure size 432x288 with 1 Axes>"
      ]
     },
     "metadata": {},
     "output_type": "display_data"
    },
    {
     "data": {
      "image/png": "[encoded data removed]",
      "text/plain": [
       "<Figure size 432x288 with 1 Axes>"
      ]
     },
     "metadata": {},
     "output_type": "display_data"
    },
    {
     "data": {
      "image/png": "[encoded data removed]",
      "text/plain": [
       "<Figure size 432x288 with 1 Axes>"
      ]
     },
     "metadata": {},
     "output_type": "display_data"
    },
    {
     "data": {
      "image/png": "[encoded data removed]",
      "text/plain": [
       "<Figure size 432x288 with 1 Axes>"
      ]
     },
     "metadata": {},
     "output_type": "display_data"
    },
    {
     "data": {
      "image/png": "[encoded data removed]",
      "text/plain": [
       "<Figure size 432x288 with 1 Axes>"
      ]
     },
     "metadata": {},
     "output_type": "display_data"
    },
    {
     "data": {
      "image/png": "[encoded data removed]",
      "text/plain": [
       "<Figure size 432x288 with 1 Axes>"
      ]
     },
     "metadata": {},
     "output_type": "display_data"
    },
    {
     "data": {
      "image/png": "[encoded data removed]",
      "text/plain": [
       "<Figure size 432x288 with 1 Axes>"
      ]
     },
     "metadata": {},
     "output_type": "display_data"
    },
    {
     "data": {
      "image/png": "[encoded data removed]",
      "text/plain": [
       "<Figure size 432x288 with 1 Axes>"
      ]
     },
     "metadata": {},
     "output_type": "display_data"
    },
    {
     "data": {
      "image/png": "[encoded data removed]",
      "text/plain": [
       "<Figure size 432x288 with 1 Axes>"
      ]
     },
     "metadata": {},
     "output_type": "display_data"
    },
    {
     "data": {
      "image/png": "[encoded data removed]",
      "text/plain": [
       "<Figure size 432x288 with 1 Axes>"
      ]
     },
     "metadata": {},
     "output_type": "display_data"
    },
    {
     "data": {
      "image/png": "[encoded data removed]",
      "text/plain": [
       "<Figure size 432x288 with 1 Axes>"
      ]
     },
     "metadata": {},
     "output_type": "display_data"
    },
    {
     "data": {
      "image/png": "[encoded data removed]",
      "text/plain": [
       "<Figure size 432x288 with 1 Axes>"
      ]
     },
     "metadata": {},
     "output_type": "display_data"
    },
    {
     "data": {
      "image/png": "[encoded data removed]",
      "text/plain": [
       "<Figure size 432x288 with 1 Axes>"
      ]
     },
     "metadata": {},
     "output_type": "display_data"
    },
    {
     "data": {
      "image/png": "[encoded data removed]",
      "text/plain": [
       "<Figure size 432x288 with 1 Axes>"
      ]
     },
     "metadata": {},
     "output_type": "display_data"
    },
    {
     "data": {
      "image/png": "[encoded data removed]",
      "text/plain": [
       "<Figure size 432x288 with 1 Axes>"
      ]
     },
     "metadata": {},
     "output_type": "display_data"
    },
    {
     "data": {
      "image/png": "[encoded data removed]",
      "text/plain": [
       "<Figure size 432x288 with 1 Axes>"
      ]
     },
     "metadata": {},
     "output_type": "display_data"
    },
    {
     "data": {
      "image/png": "[encoded data removed]",
      "text/plain": [
       "<Figure size 432x288 with 1 Axes>"
      ]
     },
     "metadata": {},
     "output_type": "display_data"
    },
    {
     "data": {
      "image/png": "[encoded data removed]",
      "text/plain": [
       "<Figure size 432x288 with 1 Axes>"
      ]
     },
     "metadata": {},
     "output_type": "display_data"
    },
    {
     "data": {
      "image/png": "[encoded data removed]",
      "text/plain": [
       "<Figure size 432x288 with 1 Axes>"
      ]
     },
     "metadata": {},
     "output_type": "display_data"
    },
    {
     "data": {
      "image/png": "[encoded data removed]",
      "text/plain": [
       "<Figure size 432x288 with 1 Axes>"
      ]
     },
     "metadata": {},
     "output_type": "display_data"
    },
    {
     "data": {
      "image/png": "[encoded data removed]",
      "text/plain": [
       "<Figure size 432x288 with 1 Axes>"
      ]
     },
     "metadata": {},
     "output_type": "display_data"
    },
    {
     "data": {
      "image/png": "[encoded data removed]",
      "text/plain": [
       "<Figure size 432x288 with 1 Axes>"
      ]
     },
     "metadata": {},
     "output_type": "display_data"
    },
    {
     "data": {
      "image/png": "[encoded data removed]",
      "text/plain": [
       "<Figure size 432x288 with 1 Axes>"
      ]
     },
     "metadata": {},
     "output_type": "display_data"
    },
    {
     "data": {
      "image/png": "[encoded data removed]",
      "text/plain": [
       "<Figure size 432x288 with 1 Axes>"
      ]
     },
     "metadata": {},
     "output_type": "display_data"
    }
   ],
   "source": [
    "for col,col_type in zip(d.columns, d.dtypes):\n",
    "    if col_type == \"float64\":\n",
    "        plt.figure()\n",
    "        print(f\"Histogram of {col_type} {col}\")\n",
    "        d[col].plot(kind=\"hist\",bins=25)\n",
    "        plt.title(f\"Histogram of {col}\")\n",
    "    if col_type == \"int64\":\n",
    "        plt.figure()\n",
    "        print(f\"Histogram of {col_type} {col}\")\n",
    "        d[col].plot(kind=\"hist\",bins=25)\n",
    "        plt.title(f\"Histogram of {col}\")\n",
    "    if col_type == \"object\":\n",
    "        print(f\"Col {col} has {d[col].nunique()} unique values.\")"
   ]
  },
  {
   "cell_type": "code",
   "execution_count": 124,
   "metadata": {},
   "outputs": [
    {
     "data": {
      "text/plain": [
       "bhr             74.519784\n",
       "basebp         135.293165\n",
       "basedp       10223.066298\n",
       "pkhr           120.643243\n",
       "sbp            147.035185\n",
       "dp           17653.733333\n",
       "maxhr          119.306422\n",
       "pctMphr         78.561798\n",
       "mbp            155.615527\n",
       "dpmaxdo      18547.702899\n",
       "dobdose         30.237226\n",
       "age             68.834879\n",
       "baseEF          55.511111\n",
       "chestpain        0.304745\n",
       "restwma          0.460838\n",
       "posSE            0.244898\n",
       "newMI            0.050179\n",
       "newPTCA          0.048387\n",
       "newCABG          0.059140\n",
       "death            0.040741\n",
       "hxofHT           0.706100\n",
       "hxofDM           0.370504\n",
       "hxofMI           0.277174\n",
       "hxofPTCA         0.076067\n",
       "hxofCABG         0.159132\n",
       "any.event        0.161818\n",
       "dtype: float64"
      ]
     },
     "execution_count": 124,
     "metadata": {},
     "output_type": "execute_result"
    }
   ],
   "source": [
    "d.mean()"
   ]
  },
  {
   "cell_type": "code",
   "execution_count": 125,
   "metadata": {},
   "outputs": [
    {
     "data": {
      "text/plain": [
       "Index(['bhr', 'basebp', 'basedp', 'pkhr', 'sbp', 'dp', 'maxhr', 'pctMphr',\n",
       "       'mbp', 'dpmaxdo', 'dobdose', 'age', 'gender', 'baseEF', 'chestpain',\n",
       "       'restwma', 'posSE', 'newMI', 'newPTCA', 'newCABG', 'death', 'hxofHT',\n",
       "       'hxofDM', 'hxofCig', 'hxofMI', 'hxofPTCA', 'hxofCABG', 'any.event',\n",
       "       'ecg'],\n",
       "      dtype='object')"
      ]
     },
     "execution_count": 125,
     "metadata": {},
     "output_type": "execute_result"
    }
   ],
   "source": [
    "d.columns"
   ]
  },
  {
   "cell_type": "code",
   "execution_count": 126,
   "metadata": {},
   "outputs": [
    {
     "data": {
      "text/plain": [
       "gender           female\n",
       "ecg              normal\n",
       "chestpain             0\n",
       "restwma               0\n",
       "posSE                 0\n",
       "newMI                 0\n",
       "newPTCA               0\n",
       "newCABG               0\n",
       "death                 0\n",
       "hxofCig      non-smoker\n",
       "hxofHT                1\n",
       "hxofDM                0\n",
       "hxofMI                0\n",
       "hxofPTCA              0\n",
       "hxofCABG              0\n",
       "any.event             0\n",
       "Name: 0, dtype: object"
      ]
     },
     "execution_count": 126,
     "metadata": {},
     "output_type": "execute_result"
    }
   ],
   "source": [
    "categorical_columns = ['gender',\n",
    "                       'ecg',\n",
    "                       'chestpain',\n",
    "                       'restwma',\n",
    "                       'posSE',\n",
    "                       'newMI',\n",
    "                       'newPTCA',\n",
    "                       'newCABG',\n",
    "                       'death',\n",
    "                       'hxofCig',\n",
    "                       'hxofHT',\n",
    "                      'hxofDM',\n",
    "                      'hxofMI',\n",
    "                      'hxofPTCA',\n",
    "                      'hxofCABG',\n",
    "                       'any.event'\n",
    "                      ]\n",
    "d[categorical_columns].mode().iloc[0]"
   ]
  },
  {
   "cell_type": "code",
   "execution_count": 127,
   "metadata": {},
   "outputs": [],
   "source": [
    "numeric_columns = list(set(d.columns) - set(categorical_columns))"
   ]
  },
  {
   "cell_type": "code",
   "execution_count": 128,
   "metadata": {},
   "outputs": [
    {
     "data": {
      "text/plain": [
       "female    338\n",
       "male      220\n",
       "Name: gender, dtype: int64"
      ]
     },
     "execution_count": 128,
     "metadata": {},
     "output_type": "execute_result"
    }
   ],
   "source": [
    "d['gender'].value_counts()"
   ]
  },
  {
   "cell_type": "code",
   "execution_count": 129,
   "metadata": {},
   "outputs": [
    {
     "data": {
      "text/plain": [
       "normal       311\n",
       "equivocal    176\n",
       "MI            71\n",
       "Name: ecg, dtype: int64"
      ]
     },
     "execution_count": 129,
     "metadata": {},
     "output_type": "execute_result"
    }
   ],
   "source": [
    "d['ecg'].value_counts()"
   ]
  },
  {
   "cell_type": "code",
   "execution_count": 130,
   "metadata": {},
   "outputs": [
    {
     "data": {
      "text/plain": [
       "non-smoker    298\n",
       "moderate      138\n",
       "heavy         122\n",
       "Name: hxofCig, dtype: int64"
      ]
     },
     "execution_count": 130,
     "metadata": {},
     "output_type": "execute_result"
    }
   ],
   "source": [
    "d['hxofCig'].value_counts()"
   ]
  },
  {
   "cell_type": "code",
   "execution_count": 131,
   "metadata": {},
   "outputs": [],
   "source": [
    "dc = d.fillna(d[categorical_columns].mode().iloc[0])\n",
    "dc = dc.fillna(d[numeric_columns].mean())"
   ]
  },
  {
   "cell_type": "code",
   "execution_count": 132,
   "metadata": {},
   "outputs": [
    {
     "data": {
      "text/html": [
       "<div>\n",
       "<style scoped>\n",
       "    .dataframe tbody tr th:only-of-type {\n",
       "        vertical-align: middle;\n",
       "    }\n",
       "\n",
       "    .dataframe tbody tr th {\n",
       "        vertical-align: top;\n",
       "    }\n",
       "\n",
       "    .dataframe thead th {\n",
       "        text-align: right;\n",
       "    }\n",
       "</style>\n",
       "<table border=\"1\" class=\"dataframe\">\n",
       "  <thead>\n",
       "    <tr style=\"text-align: right;\">\n",
       "      <th></th>\n",
       "      <th>bhr</th>\n",
       "      <th>basebp</th>\n",
       "      <th>basedp</th>\n",
       "      <th>pkhr</th>\n",
       "      <th>sbp</th>\n",
       "      <th>dp</th>\n",
       "      <th>maxhr</th>\n",
       "      <th>pctMphr</th>\n",
       "      <th>mbp</th>\n",
       "      <th>dpmaxdo</th>\n",
       "      <th>dobdose</th>\n",
       "      <th>age</th>\n",
       "      <th>baseEF</th>\n",
       "      <th>chestpain</th>\n",
       "      <th>restwma</th>\n",
       "      <th>posSE</th>\n",
       "      <th>newMI</th>\n",
       "      <th>newPTCA</th>\n",
       "      <th>newCABG</th>\n",
       "      <th>death</th>\n",
       "      <th>hxofHT</th>\n",
       "      <th>hxofDM</th>\n",
       "      <th>hxofMI</th>\n",
       "      <th>hxofPTCA</th>\n",
       "      <th>hxofCABG</th>\n",
       "      <th>any.event</th>\n",
       "    </tr>\n",
       "  </thead>\n",
       "  <tbody>\n",
       "    <tr>\n",
       "      <th>count</th>\n",
       "      <td>558.000000</td>\n",
       "      <td>558.000000</td>\n",
       "      <td>558.000000</td>\n",
       "      <td>558.000000</td>\n",
       "      <td>558.000000</td>\n",
       "      <td>558.000000</td>\n",
       "      <td>558.000000</td>\n",
       "      <td>558.000000</td>\n",
       "      <td>558.000000</td>\n",
       "      <td>558.000000</td>\n",
       "      <td>558.000000</td>\n",
       "      <td>558.000000</td>\n",
       "      <td>558.000000</td>\n",
       "      <td>558.000000</td>\n",
       "      <td>558.000000</td>\n",
       "      <td>558.000000</td>\n",
       "      <td>558.000000</td>\n",
       "      <td>558.000000</td>\n",
       "      <td>558.000000</td>\n",
       "      <td>558.000000</td>\n",
       "      <td>558.000000</td>\n",
       "      <td>558.000000</td>\n",
       "      <td>558.000000</td>\n",
       "      <td>558.000000</td>\n",
       "      <td>558.000000</td>\n",
       "      <td>558.000000</td>\n",
       "    </tr>\n",
       "    <tr>\n",
       "      <th>mean</th>\n",
       "      <td>74.519784</td>\n",
       "      <td>135.293165</td>\n",
       "      <td>10223.066298</td>\n",
       "      <td>120.643243</td>\n",
       "      <td>147.035185</td>\n",
       "      <td>17653.733333</td>\n",
       "      <td>119.306422</td>\n",
       "      <td>78.561798</td>\n",
       "      <td>155.615527</td>\n",
       "      <td>18547.702899</td>\n",
       "      <td>30.237226</td>\n",
       "      <td>68.834879</td>\n",
       "      <td>55.511111</td>\n",
       "      <td>0.299283</td>\n",
       "      <td>0.453405</td>\n",
       "      <td>0.236559</td>\n",
       "      <td>0.050179</td>\n",
       "      <td>0.048387</td>\n",
       "      <td>0.059140</td>\n",
       "      <td>0.039427</td>\n",
       "      <td>0.715054</td>\n",
       "      <td>0.369176</td>\n",
       "      <td>0.274194</td>\n",
       "      <td>0.073477</td>\n",
       "      <td>0.157706</td>\n",
       "      <td>0.159498</td>\n",
       "    </tr>\n",
       "    <tr>\n",
       "      <th>std</th>\n",
       "      <td>17.590534</td>\n",
       "      <td>20.762192</td>\n",
       "      <td>2553.731480</td>\n",
       "      <td>22.523132</td>\n",
       "      <td>36.085236</td>\n",
       "      <td>5157.104510</td>\n",
       "      <td>21.756273</td>\n",
       "      <td>14.895535</td>\n",
       "      <td>31.211850</td>\n",
       "      <td>4885.634142</td>\n",
       "      <td>9.457375</td>\n",
       "      <td>15.976324</td>\n",
       "      <td>10.251149</td>\n",
       "      <td>0.458355</td>\n",
       "      <td>0.498271</td>\n",
       "      <td>0.425351</td>\n",
       "      <td>0.218510</td>\n",
       "      <td>0.214775</td>\n",
       "      <td>0.236098</td>\n",
       "      <td>0.194782</td>\n",
       "      <td>0.451794</td>\n",
       "      <td>0.483015</td>\n",
       "      <td>0.446507</td>\n",
       "      <td>0.261151</td>\n",
       "      <td>0.364792</td>\n",
       "      <td>0.366469</td>\n",
       "    </tr>\n",
       "    <tr>\n",
       "      <th>min</th>\n",
       "      <td>-42.000000</td>\n",
       "      <td>85.000000</td>\n",
       "      <td>5000.000000</td>\n",
       "      <td>52.000000</td>\n",
       "      <td>40.000000</td>\n",
       "      <td>5100.000000</td>\n",
       "      <td>58.000000</td>\n",
       "      <td>38.000000</td>\n",
       "      <td>84.000000</td>\n",
       "      <td>7130.000000</td>\n",
       "      <td>5.000000</td>\n",
       "      <td>26.000000</td>\n",
       "      <td>20.000000</td>\n",
       "      <td>0.000000</td>\n",
       "      <td>0.000000</td>\n",
       "      <td>0.000000</td>\n",
       "      <td>0.000000</td>\n",
       "      <td>0.000000</td>\n",
       "      <td>0.000000</td>\n",
       "      <td>0.000000</td>\n",
       "      <td>0.000000</td>\n",
       "      <td>0.000000</td>\n",
       "      <td>0.000000</td>\n",
       "      <td>0.000000</td>\n",
       "      <td>0.000000</td>\n",
       "      <td>0.000000</td>\n",
       "    </tr>\n",
       "    <tr>\n",
       "      <th>25%</th>\n",
       "      <td>64.000000</td>\n",
       "      <td>120.000000</td>\n",
       "      <td>8467.000000</td>\n",
       "      <td>107.000000</td>\n",
       "      <td>122.000000</td>\n",
       "      <td>14220.000000</td>\n",
       "      <td>105.000000</td>\n",
       "      <td>70.000000</td>\n",
       "      <td>134.000000</td>\n",
       "      <td>15261.000000</td>\n",
       "      <td>25.000000</td>\n",
       "      <td>61.000000</td>\n",
       "      <td>52.250000</td>\n",
       "      <td>0.000000</td>\n",
       "      <td>0.000000</td>\n",
       "      <td>0.000000</td>\n",
       "      <td>0.000000</td>\n",
       "      <td>0.000000</td>\n",
       "      <td>0.000000</td>\n",
       "      <td>0.000000</td>\n",
       "      <td>0.000000</td>\n",
       "      <td>0.000000</td>\n",
       "      <td>0.000000</td>\n",
       "      <td>0.000000</td>\n",
       "      <td>0.000000</td>\n",
       "      <td>0.000000</td>\n",
       "    </tr>\n",
       "    <tr>\n",
       "      <th>50%</th>\n",
       "      <td>73.000000</td>\n",
       "      <td>133.000000</td>\n",
       "      <td>9940.500000</td>\n",
       "      <td>122.000000</td>\n",
       "      <td>143.000000</td>\n",
       "      <td>17243.000000</td>\n",
       "      <td>120.000000</td>\n",
       "      <td>78.561798</td>\n",
       "      <td>151.000000</td>\n",
       "      <td>18202.000000</td>\n",
       "      <td>30.000000</td>\n",
       "      <td>68.917440</td>\n",
       "      <td>57.000000</td>\n",
       "      <td>0.000000</td>\n",
       "      <td>0.000000</td>\n",
       "      <td>0.000000</td>\n",
       "      <td>0.000000</td>\n",
       "      <td>0.000000</td>\n",
       "      <td>0.000000</td>\n",
       "      <td>0.000000</td>\n",
       "      <td>1.000000</td>\n",
       "      <td>0.000000</td>\n",
       "      <td>0.000000</td>\n",
       "      <td>0.000000</td>\n",
       "      <td>0.000000</td>\n",
       "      <td>0.000000</td>\n",
       "    </tr>\n",
       "    <tr>\n",
       "      <th>75%</th>\n",
       "      <td>84.000000</td>\n",
       "      <td>150.000000</td>\n",
       "      <td>11652.000000</td>\n",
       "      <td>135.000000</td>\n",
       "      <td>170.000000</td>\n",
       "      <td>20568.000000</td>\n",
       "      <td>133.000000</td>\n",
       "      <td>88.000000</td>\n",
       "      <td>174.000000</td>\n",
       "      <td>21197.500000</td>\n",
       "      <td>40.000000</td>\n",
       "      <td>76.000000</td>\n",
       "      <td>62.000000</td>\n",
       "      <td>1.000000</td>\n",
       "      <td>1.000000</td>\n",
       "      <td>0.000000</td>\n",
       "      <td>0.000000</td>\n",
       "      <td>0.000000</td>\n",
       "      <td>0.000000</td>\n",
       "      <td>0.000000</td>\n",
       "      <td>1.000000</td>\n",
       "      <td>1.000000</td>\n",
       "      <td>1.000000</td>\n",
       "      <td>0.000000</td>\n",
       "      <td>0.000000</td>\n",
       "      <td>0.000000</td>\n",
       "    </tr>\n",
       "    <tr>\n",
       "      <th>max</th>\n",
       "      <td>210.000000</td>\n",
       "      <td>203.000000</td>\n",
       "      <td>27300.000000</td>\n",
       "      <td>210.000000</td>\n",
       "      <td>309.000000</td>\n",
       "      <td>45114.000000</td>\n",
       "      <td>200.000000</td>\n",
       "      <td>133.000000</td>\n",
       "      <td>309.000000</td>\n",
       "      <td>45114.000000</td>\n",
       "      <td>40.000000</td>\n",
       "      <td>167.000000</td>\n",
       "      <td>83.000000</td>\n",
       "      <td>1.000000</td>\n",
       "      <td>1.000000</td>\n",
       "      <td>1.000000</td>\n",
       "      <td>1.000000</td>\n",
       "      <td>1.000000</td>\n",
       "      <td>1.000000</td>\n",
       "      <td>1.000000</td>\n",
       "      <td>1.000000</td>\n",
       "      <td>1.000000</td>\n",
       "      <td>1.000000</td>\n",
       "      <td>1.000000</td>\n",
       "      <td>1.000000</td>\n",
       "      <td>1.000000</td>\n",
       "    </tr>\n",
       "  </tbody>\n",
       "</table>\n",
       "</div>"
      ],
      "text/plain": [
       "              bhr      basebp        basedp        pkhr         sbp  \\\n",
       "count  558.000000  558.000000    558.000000  558.000000  558.000000   \n",
       "mean    74.519784  135.293165  10223.066298  120.643243  147.035185   \n",
       "std     17.590534   20.762192   2553.731480   22.523132   36.085236   \n",
       "min    -42.000000   85.000000   5000.000000   52.000000   40.000000   \n",
       "25%     64.000000  120.000000   8467.000000  107.000000  122.000000   \n",
       "50%     73.000000  133.000000   9940.500000  122.000000  143.000000   \n",
       "75%     84.000000  150.000000  11652.000000  135.000000  170.000000   \n",
       "max    210.000000  203.000000  27300.000000  210.000000  309.000000   \n",
       "\n",
       "                 dp       maxhr     pctMphr         mbp       dpmaxdo  \\\n",
       "count    558.000000  558.000000  558.000000  558.000000    558.000000   \n",
       "mean   17653.733333  119.306422   78.561798  155.615527  18547.702899   \n",
       "std     5157.104510   21.756273   14.895535   31.211850   4885.634142   \n",
       "min     5100.000000   58.000000   38.000000   84.000000   7130.000000   \n",
       "25%    14220.000000  105.000000   70.000000  134.000000  15261.000000   \n",
       "50%    17243.000000  120.000000   78.561798  151.000000  18202.000000   \n",
       "75%    20568.000000  133.000000   88.000000  174.000000  21197.500000   \n",
       "max    45114.000000  200.000000  133.000000  309.000000  45114.000000   \n",
       "\n",
       "          dobdose         age      baseEF   chestpain     restwma       posSE  \\\n",
       "count  558.000000  558.000000  558.000000  558.000000  558.000000  558.000000   \n",
       "mean    30.237226   68.834879   55.511111    0.299283    0.453405    0.236559   \n",
       "std      9.457375   15.976324   10.251149    0.458355    0.498271    0.425351   \n",
       "min      5.000000   26.000000   20.000000    0.000000    0.000000    0.000000   \n",
       "25%     25.000000   61.000000   52.250000    0.000000    0.000000    0.000000   \n",
       "50%     30.000000   68.917440   57.000000    0.000000    0.000000    0.000000   \n",
       "75%     40.000000   76.000000   62.000000    1.000000    1.000000    0.000000   \n",
       "max     40.000000  167.000000   83.000000    1.000000    1.000000    1.000000   \n",
       "\n",
       "            newMI     newPTCA     newCABG       death      hxofHT      hxofDM  \\\n",
       "count  558.000000  558.000000  558.000000  558.000000  558.000000  558.000000   \n",
       "mean     0.050179    0.048387    0.059140    0.039427    0.715054    0.369176   \n",
       "std      0.218510    0.214775    0.236098    0.194782    0.451794    0.483015   \n",
       "min      0.000000    0.000000    0.000000    0.000000    0.000000    0.000000   \n",
       "25%      0.000000    0.000000    0.000000    0.000000    0.000000    0.000000   \n",
       "50%      0.000000    0.000000    0.000000    0.000000    1.000000    0.000000   \n",
       "75%      0.000000    0.000000    0.000000    0.000000    1.000000    1.000000   \n",
       "max      1.000000    1.000000    1.000000    1.000000    1.000000    1.000000   \n",
       "\n",
       "           hxofMI    hxofPTCA    hxofCABG   any.event  \n",
       "count  558.000000  558.000000  558.000000  558.000000  \n",
       "mean     0.274194    0.073477    0.157706    0.159498  \n",
       "std      0.446507    0.261151    0.364792    0.366469  \n",
       "min      0.000000    0.000000    0.000000    0.000000  \n",
       "25%      0.000000    0.000000    0.000000    0.000000  \n",
       "50%      0.000000    0.000000    0.000000    0.000000  \n",
       "75%      1.000000    0.000000    0.000000    0.000000  \n",
       "max      1.000000    1.000000    1.000000    1.000000  "
      ]
     },
     "execution_count": 132,
     "metadata": {},
     "output_type": "execute_result"
    }
   ],
   "source": [
    "dc.describe()"
   ]
  },
  {
   "cell_type": "code",
   "execution_count": 133,
   "metadata": {},
   "outputs": [
    {
     "data": {
      "text/plain": [
       "0.0    469\n",
       "1.0     89\n",
       "Name: any.event, dtype: int64"
      ]
     },
     "execution_count": 133,
     "metadata": {},
     "output_type": "execute_result"
    }
   ],
   "source": [
    "dc['any.event'].value_counts()"
   ]
  },
  {
   "cell_type": "code",
   "execution_count": 134,
   "metadata": {},
   "outputs": [
    {
     "data": {
      "text/plain": [
       "0.0    469\n",
       "1.0     89\n",
       "Name: any.event, dtype: int64"
      ]
     },
     "execution_count": 134,
     "metadata": {},
     "output_type": "execute_result"
    }
   ],
   "source": [
    "dc['any.event'].value_counts()"
   ]
  },
  {
   "cell_type": "code",
   "execution_count": 135,
   "metadata": {},
   "outputs": [
    {
     "data": {
      "text/plain": [
       "female    338\n",
       "male      220\n",
       "Name: gender, dtype: int64"
      ]
     },
     "execution_count": 135,
     "metadata": {},
     "output_type": "execute_result"
    }
   ],
   "source": [
    "dc['gender'].value_counts()"
   ]
  },
  {
   "cell_type": "code",
   "execution_count": 136,
   "metadata": {},
   "outputs": [
    {
     "data": {
      "text/plain": [
       "female    338\n",
       "male      220\n",
       "Name: gender, dtype: int64"
      ]
     },
     "execution_count": 136,
     "metadata": {},
     "output_type": "execute_result"
    }
   ],
   "source": [
    "d['gender'].value_counts()"
   ]
  },
  {
   "cell_type": "code",
   "execution_count": 137,
   "metadata": {},
   "outputs": [
    {
     "data": {
      "text/plain": [
       "gender  any.event\n",
       "female  0.0          287\n",
       "        1.0           46\n",
       "male    0.0          174\n",
       "        1.0           43\n",
       "Name: any.event, dtype: int64"
      ]
     },
     "execution_count": 137,
     "metadata": {},
     "output_type": "execute_result"
    }
   ],
   "source": [
    "d.groupby(by='gender')['any.event'].value_counts()"
   ]
  },
  {
   "cell_type": "code",
   "execution_count": 139,
   "metadata": {},
   "outputs": [],
   "source": [
    "dcd = pd.get_dummies(dc)"
   ]
  },
  {
   "cell_type": "code",
   "execution_count": 140,
   "metadata": {},
   "outputs": [],
   "source": [
    "targets = ['any.event','death','newMI','newPTCA','newCABG']"
   ]
  },
  {
   "cell_type": "code",
   "execution_count": 141,
   "metadata": {},
   "outputs": [
    {
     "data": {
      "text/plain": [
       "Index(['bhr', 'basebp', 'basedp', 'pkhr', 'sbp', 'dp', 'maxhr', 'pctMphr',\n",
       "       'mbp', 'dpmaxdo', 'dobdose', 'age', 'baseEF', 'chestpain', 'restwma',\n",
       "       'posSE', 'newMI', 'newPTCA', 'newCABG', 'death', 'hxofHT', 'hxofDM',\n",
       "       'hxofMI', 'hxofPTCA', 'hxofCABG', 'any.event', 'gender_female',\n",
       "       'gender_male', 'hxofCig_heavy', 'hxofCig_moderate',\n",
       "       'hxofCig_non-smoker', 'ecg_MI', 'ecg_equivocal', 'ecg_normal'],\n",
       "      dtype='object')"
      ]
     },
     "execution_count": 141,
     "metadata": {},
     "output_type": "execute_result"
    }
   ],
   "source": [
    "dcd.columns"
   ]
  },
  {
   "cell_type": "code",
   "execution_count": 142,
   "metadata": {},
   "outputs": [],
   "source": [
    "from sklearn.feature_selection import SelectKBest\n",
    "from sklearn.feature_selection import chi2\n",
    "\n",
    "X = dcd[list(set(dcd.columns) - set(targets))]\n",
    "y = dcd['any.event']"
   ]
  },
  {
   "cell_type": "code",
   "execution_count": 153,
   "metadata": {},
   "outputs": [],
   "source": [
    "X = X.clip(lower=0)"
   ]
  },
  {
   "cell_type": "code",
   "execution_count": 154,
   "metadata": {},
   "outputs": [
    {
     "data": {
      "text/plain": [
       "(558, 29)"
      ]
     },
     "execution_count": 154,
     "metadata": {},
     "output_type": "execute_result"
    }
   ],
   "source": [
    "X.shape"
   ]
  },
  {
   "cell_type": "code",
   "execution_count": 155,
   "metadata": {},
   "outputs": [
    {
     "data": {
      "text/plain": [
       "(558, 34)"
      ]
     },
     "execution_count": 155,
     "metadata": {},
     "output_type": "execute_result"
    }
   ],
   "source": [
    "dcd.shape"
   ]
  },
  {
   "cell_type": "code",
   "execution_count": 157,
   "metadata": {},
   "outputs": [],
   "source": [
    "skb = SelectKBest(chi2, k=5).fit(X, y)"
   ]
  },
  {
   "cell_type": "code",
   "execution_count": 162,
   "metadata": {},
   "outputs": [
    {
     "name": "stdout",
     "output_type": "stream",
     "text": [
      "sbp - 2.0303339887545705e-07\n",
      "baseEF - 8.452047576359007e-13\n",
      "hxofPTCA - 0.29393166837867374\n",
      "hxofCig_non-smoker - 0.3815757561923494\n",
      "chestpain - 0.1786365083597644\n",
      "hxofCig_heavy - 0.2614753673690545\n",
      "mbp - 0.002502233615202182\n",
      "dobdose - 0.001486205431103295\n",
      "gender_male - 0.14522751494533803\n",
      "hxofHT - 0.12035358384333882\n",
      "age - 0.02863980268078268\n",
      "bhr - 0.9376193256648961\n",
      "ecg_MI - 0.00015404320975145338\n",
      "ecg_normal - 0.02371346544800147\n",
      "hxofMI - 0.0002476914101283388\n",
      "dpmaxdo - 0.0\n",
      "hxofCABG - 0.08248551702682552\n",
      "gender_female - 0.23993552263257567\n",
      "pctMphr - 0.10931970996629083\n",
      "hxofCig_moderate - 0.8180957722377636\n",
      "maxhr - 0.002270952354540718\n",
      "restwma - 1.3407846394330313e-05\n",
      "ecg_equivocal - 0.5466038370530005\n",
      "basebp - 0.15544896147150228\n",
      "basedp - 1.281630180102249e-162\n",
      "dp - 0.0\n",
      "hxofDM - 0.03396496850391589\n",
      "pkhr - 0.0001600966852160144\n",
      "posSE - 1.2519223476031758e-08\n"
     ]
    }
   ],
   "source": [
    "for name, p in zip(list(set(dcd.columns) - set(targets)),skb.pvalues_):\n",
    "    print(f\"{name} - {p}\")"
   ]
  },
  {
   "cell_type": "code",
   "execution_count": 166,
   "metadata": {},
   "outputs": [],
   "source": [
    "best_features = pd.DataFrame({'score':skb.scores_, 'pv':skb.pvalues_, 'col':list(set(dcd.columns) - set(targets))})"
   ]
  },
  {
   "cell_type": "code",
   "execution_count": 168,
   "metadata": {},
   "outputs": [
    {
     "data": {
      "text/html": [
       "<div>\n",
       "<style scoped>\n",
       "    .dataframe tbody tr th:only-of-type {\n",
       "        vertical-align: middle;\n",
       "    }\n",
       "\n",
       "    .dataframe tbody tr th {\n",
       "        vertical-align: top;\n",
       "    }\n",
       "\n",
       "    .dataframe thead th {\n",
       "        text-align: right;\n",
       "    }\n",
       "</style>\n",
       "<table border=\"1\" class=\"dataframe\">\n",
       "  <thead>\n",
       "    <tr style=\"text-align: right;\">\n",
       "      <th></th>\n",
       "      <th>score</th>\n",
       "      <th>pv</th>\n",
       "      <th>col</th>\n",
       "    </tr>\n",
       "  </thead>\n",
       "  <tbody>\n",
       "    <tr>\n",
       "      <th>25</th>\n",
       "      <td>8681.510010</td>\n",
       "      <td>0.000000e+00</td>\n",
       "      <td>dp</td>\n",
       "    </tr>\n",
       "    <tr>\n",
       "      <th>15</th>\n",
       "      <td>5496.595736</td>\n",
       "      <td>0.000000e+00</td>\n",
       "      <td>dpmaxdo</td>\n",
       "    </tr>\n",
       "    <tr>\n",
       "      <th>24</th>\n",
       "      <td>738.482425</td>\n",
       "      <td>1.281630e-162</td>\n",
       "      <td>basedp</td>\n",
       "    </tr>\n",
       "    <tr>\n",
       "      <th>1</th>\n",
       "      <td>51.174241</td>\n",
       "      <td>8.452048e-13</td>\n",
       "      <td>baseEF</td>\n",
       "    </tr>\n",
       "    <tr>\n",
       "      <th>28</th>\n",
       "      <td>32.404562</td>\n",
       "      <td>1.251922e-08</td>\n",
       "      <td>posSE</td>\n",
       "    </tr>\n",
       "    <tr>\n",
       "      <th>0</th>\n",
       "      <td>27.004014</td>\n",
       "      <td>2.030334e-07</td>\n",
       "      <td>sbp</td>\n",
       "    </tr>\n",
       "    <tr>\n",
       "      <th>21</th>\n",
       "      <td>18.951576</td>\n",
       "      <td>1.340785e-05</td>\n",
       "      <td>restwma</td>\n",
       "    </tr>\n",
       "    <tr>\n",
       "      <th>12</th>\n",
       "      <td>14.322131</td>\n",
       "      <td>1.540432e-04</td>\n",
       "      <td>ecg_MI</td>\n",
       "    </tr>\n",
       "    <tr>\n",
       "      <th>27</th>\n",
       "      <td>14.249578</td>\n",
       "      <td>1.600967e-04</td>\n",
       "      <td>pkhr</td>\n",
       "    </tr>\n",
       "    <tr>\n",
       "      <th>14</th>\n",
       "      <td>13.429551</td>\n",
       "      <td>2.476914e-04</td>\n",
       "      <td>hxofMI</td>\n",
       "    </tr>\n",
       "    <tr>\n",
       "      <th>7</th>\n",
       "      <td>10.095640</td>\n",
       "      <td>1.486205e-03</td>\n",
       "      <td>dobdose</td>\n",
       "    </tr>\n",
       "    <tr>\n",
       "      <th>20</th>\n",
       "      <td>9.316533</td>\n",
       "      <td>2.270952e-03</td>\n",
       "      <td>maxhr</td>\n",
       "    </tr>\n",
       "    <tr>\n",
       "      <th>6</th>\n",
       "      <td>9.138959</td>\n",
       "      <td>2.502234e-03</td>\n",
       "      <td>mbp</td>\n",
       "    </tr>\n",
       "    <tr>\n",
       "      <th>13</th>\n",
       "      <td>5.115468</td>\n",
       "      <td>2.371347e-02</td>\n",
       "      <td>ecg_normal</td>\n",
       "    </tr>\n",
       "    <tr>\n",
       "      <th>10</th>\n",
       "      <td>4.789135</td>\n",
       "      <td>2.863980e-02</td>\n",
       "      <td>age</td>\n",
       "    </tr>\n",
       "    <tr>\n",
       "      <th>26</th>\n",
       "      <td>4.496467</td>\n",
       "      <td>3.396497e-02</td>\n",
       "      <td>hxofDM</td>\n",
       "    </tr>\n",
       "    <tr>\n",
       "      <th>16</th>\n",
       "      <td>3.015235</td>\n",
       "      <td>8.248552e-02</td>\n",
       "      <td>hxofCABG</td>\n",
       "    </tr>\n",
       "    <tr>\n",
       "      <th>18</th>\n",
       "      <td>2.564028</td>\n",
       "      <td>1.093197e-01</td>\n",
       "      <td>pctMphr</td>\n",
       "    </tr>\n",
       "    <tr>\n",
       "      <th>9</th>\n",
       "      <td>2.412714</td>\n",
       "      <td>1.203536e-01</td>\n",
       "      <td>hxofHT</td>\n",
       "    </tr>\n",
       "    <tr>\n",
       "      <th>8</th>\n",
       "      <td>2.121676</td>\n",
       "      <td>1.452275e-01</td>\n",
       "      <td>gender_male</td>\n",
       "    </tr>\n",
       "    <tr>\n",
       "      <th>23</th>\n",
       "      <td>2.017949</td>\n",
       "      <td>1.554490e-01</td>\n",
       "      <td>basebp</td>\n",
       "    </tr>\n",
       "    <tr>\n",
       "      <th>4</th>\n",
       "      <td>1.808931</td>\n",
       "      <td>1.786365e-01</td>\n",
       "      <td>chestpain</td>\n",
       "    </tr>\n",
       "    <tr>\n",
       "      <th>17</th>\n",
       "      <td>1.380973</td>\n",
       "      <td>2.399355e-01</td>\n",
       "      <td>gender_female</td>\n",
       "    </tr>\n",
       "    <tr>\n",
       "      <th>5</th>\n",
       "      <td>1.260929</td>\n",
       "      <td>2.614754e-01</td>\n",
       "      <td>hxofCig_heavy</td>\n",
       "    </tr>\n",
       "    <tr>\n",
       "      <th>2</th>\n",
       "      <td>1.101525</td>\n",
       "      <td>2.939317e-01</td>\n",
       "      <td>hxofPTCA</td>\n",
       "    </tr>\n",
       "    <tr>\n",
       "      <th>3</th>\n",
       "      <td>0.765619</td>\n",
       "      <td>3.815758e-01</td>\n",
       "      <td>hxofCig_non-smoker</td>\n",
       "    </tr>\n",
       "    <tr>\n",
       "      <th>22</th>\n",
       "      <td>0.363437</td>\n",
       "      <td>5.466038e-01</td>\n",
       "      <td>ecg_equivocal</td>\n",
       "    </tr>\n",
       "    <tr>\n",
       "      <th>19</th>\n",
       "      <td>0.052898</td>\n",
       "      <td>8.180958e-01</td>\n",
       "      <td>hxofCig_moderate</td>\n",
       "    </tr>\n",
       "    <tr>\n",
       "      <th>11</th>\n",
       "      <td>0.006125</td>\n",
       "      <td>9.376193e-01</td>\n",
       "      <td>bhr</td>\n",
       "    </tr>\n",
       "  </tbody>\n",
       "</table>\n",
       "</div>"
      ],
      "text/plain": [
       "          score             pv                 col\n",
       "25  8681.510010   0.000000e+00                  dp\n",
       "15  5496.595736   0.000000e+00             dpmaxdo\n",
       "24   738.482425  1.281630e-162              basedp\n",
       "1     51.174241   8.452048e-13              baseEF\n",
       "28    32.404562   1.251922e-08               posSE\n",
       "0     27.004014   2.030334e-07                 sbp\n",
       "21    18.951576   1.340785e-05             restwma\n",
       "12    14.322131   1.540432e-04              ecg_MI\n",
       "27    14.249578   1.600967e-04                pkhr\n",
       "14    13.429551   2.476914e-04              hxofMI\n",
       "7     10.095640   1.486205e-03             dobdose\n",
       "20     9.316533   2.270952e-03               maxhr\n",
       "6      9.138959   2.502234e-03                 mbp\n",
       "13     5.115468   2.371347e-02          ecg_normal\n",
       "10     4.789135   2.863980e-02                 age\n",
       "26     4.496467   3.396497e-02              hxofDM\n",
       "16     3.015235   8.248552e-02            hxofCABG\n",
       "18     2.564028   1.093197e-01             pctMphr\n",
       "9      2.412714   1.203536e-01              hxofHT\n",
       "8      2.121676   1.452275e-01         gender_male\n",
       "23     2.017949   1.554490e-01              basebp\n",
       "4      1.808931   1.786365e-01           chestpain\n",
       "17     1.380973   2.399355e-01       gender_female\n",
       "5      1.260929   2.614754e-01       hxofCig_heavy\n",
       "2      1.101525   2.939317e-01            hxofPTCA\n",
       "3      0.765619   3.815758e-01  hxofCig_non-smoker\n",
       "22     0.363437   5.466038e-01       ecg_equivocal\n",
       "19     0.052898   8.180958e-01    hxofCig_moderate\n",
       "11     0.006125   9.376193e-01                 bhr"
      ]
     },
     "execution_count": 168,
     "metadata": {},
     "output_type": "execute_result"
    }
   ],
   "source": [
    "best_features.sort_values(by='score',ascending=False)"
   ]
  },
  {
   "cell_type": "code",
   "execution_count": null,
   "metadata": {},
   "outputs": [],
   "source": []
  }
 ],
 "metadata": {
  "kernelspec": {
   "display_name": "Python 3",
   "language": "python",
   "name": "python3"
  },
  "language_info": {
   "codemirror_mode": {
    "name": "ipython",
    "version": 3
   },
   "file_extension": ".py",
   "mimetype": "text/x-python",
   "name": "python",
   "nbconvert_exporter": "python",
   "pygments_lexer": "ipython3",
   "version": "3.6.6"
  }
 },
 "nbformat": 4,
 "nbformat_minor": 2
}
